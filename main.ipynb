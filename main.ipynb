{
 "cells": [
  {
   "cell_type": "code",
   "execution_count": 30,
   "metadata": {},
   "outputs": [],
   "source": [
    "import numpy as np \n",
    "import requests\n",
    "from joblib import load"
   ]
  },
  {
   "cell_type": "code",
   "execution_count": 31,
   "metadata": {},
   "outputs": [],
   "source": [
    "api_key = \"ea06ced2e3882a5938b6b55365e54627\"\n",
    "city_name = \"Bengaluru\"\n",
    "base_url = f\"https://api.openweathermap.org/data/2.5/forecast?q={city_name}&appid={api_key}&units=metric\"\n",
    "response = requests.get(base_url)\n",
    "data = response.json()"
   ]
  },
  {
   "cell_type": "code",
   "execution_count": 32,
   "metadata": {},
   "outputs": [],
   "source": [
    "def croptypes():\n",
    "    print(\"rice:0,wheat:1,bajara:2,channa:3,jute:4\")\n",
    "    return int(input(\"choose youer crop type : \"))"
   ]
  },
  {
   "cell_type": "code",
   "execution_count": 36,
   "metadata": {},
   "outputs": [],
   "source": [
    "model = load(\"SAI.joblib\")"
   ]
  },
  {
   "cell_type": "code",
   "execution_count": 66,
   "metadata": {},
   "outputs": [
    {
     "name": "stdout",
     "output_type": "stream",
     "text": [
      "rice:0,wheat:1,bajara:2,channa:3,jute:4\n"
     ]
    }
   ],
   "source": [
    "x = np.array([[np.random.randint(10, 100),\n",
    "               data[\"list\"][0][\"main\"][\"temp\"],\n",
    "               data[\"list\"][0][\"main\"][\"humidity\"],\n",
    "               data[\"list\"][0][\"pop\"],\n",
    "               data[\"list\"][2][\"pop\"],\n",
    "               data[\"list\"][4][\"pop\"],\n",
    "               data[\"list\"][8][\"pop\"],\n",
    "               data[\"list\"][0].get(\"rain\", {}).get(\"3h\", 0),\n",
    "               data[\"list\"][0][\"wind\"][\"speed\"],\n",
    "               np.random.uniform(100, 1000),\n",
    "               np.random.choice([0, 1, 2]),\n",
    "               croptypes(),\n",
    "               np.random.choice([0,1,2,3]),\n",
    "               np.random.uniform(0, 50),\n",
    "               np.random.uniform(0, 7),\n",
    "               np.random.uniform(0.6, 1.0),\n",
    "               np.random.uniform(0, 30),\n",
    "               np.random.uniform(0, 8),\n",
    "               np.random.uniform(0, 50),\n",
    "               np.random.choice([0,1,2]),\n",
    "               np.random.choice([0, 1, 2, 3]),\n",
    "               np.random.randint(1,100),\n",
    "               np.random.randint(1,100)\n",
    "               ]])"
   ]
  },
  {
   "cell_type": "code",
   "execution_count": 68,
   "metadata": {},
   "outputs": [
    {
     "data": {
      "text/plain": [
       "array([[9.60000000e+01],\n",
       "       [2.37300000e+01],\n",
       "       [6.90000000e+01],\n",
       "       [0.00000000e+00],\n",
       "       [0.00000000e+00],\n",
       "       [0.00000000e+00],\n",
       "       [5.10000000e-01],\n",
       "       [0.00000000e+00],\n",
       "       [4.00000000e+00],\n",
       "       [9.34921129e+02],\n",
       "       [0.00000000e+00],\n",
       "       [2.00000000e+00],\n",
       "       [2.00000000e+00],\n",
       "       [3.74685236e+01],\n",
       "       [6.01365347e+00],\n",
       "       [9.09933138e-01],\n",
       "       [2.74298936e+01],\n",
       "       [4.65050184e+00],\n",
       "       [7.40529516e+00],\n",
       "       [1.00000000e+00],\n",
       "       [1.00000000e+00],\n",
       "       [9.20000000e+01],\n",
       "       [8.50000000e+01]])"
      ]
     },
     "execution_count": 68,
     "metadata": {},
     "output_type": "execute_result"
    }
   ],
   "source": [
    "x.reshape(-1,1)"
   ]
  },
  {
   "cell_type": "code",
   "execution_count": 69,
   "metadata": {},
   "outputs": [],
   "source": [
    "from sklearn.preprocessing import Normalizer\n",
    "n = Normalizer()"
   ]
  },
  {
   "cell_type": "code",
   "execution_count": 70,
   "metadata": {},
   "outputs": [],
   "source": [
    "id = n.fit_transform(x)"
   ]
  },
  {
   "cell_type": "code",
   "execution_count": 71,
   "metadata": {},
   "outputs": [
    {
     "data": {
      "text/plain": [
       "array([[1.00823726e-01],\n",
       "       [2.49223648e-02],\n",
       "       [7.24670532e-02],\n",
       "       [0.00000000e+00],\n",
       "       [0.00000000e+00],\n",
       "       [0.00000000e+00],\n",
       "       [5.35626045e-04],\n",
       "       [0.00000000e+00],\n",
       "       [4.20098859e-03],\n",
       "       [9.81898250e-01],\n",
       "       [0.00000000e+00],\n",
       "       [2.10049430e-03],\n",
       "       [2.10049430e-03],\n",
       "       [3.93512100e-02],\n",
       "       [6.31582241e-03],\n",
       "       [9.55654683e-04],\n",
       "       [2.88081675e-02],\n",
       "       [4.88417630e-03],\n",
       "       [7.77739012e-03],\n",
       "       [1.05024715e-03],\n",
       "       [1.05024715e-03],\n",
       "       [9.66227376e-02],\n",
       "       [8.92710076e-02]])"
      ]
     },
     "execution_count": 71,
     "metadata": {},
     "output_type": "execute_result"
    }
   ],
   "source": [
    "id.reshape(-1,1)"
   ]
  },
  {
   "cell_type": "code",
   "execution_count": 73,
   "metadata": {},
   "outputs": [],
   "source": [
    "output = model.predict(id)"
   ]
  },
  {
   "cell_type": "code",
   "execution_count": 75,
   "metadata": {},
   "outputs": [
    {
     "name": "stdout",
     "output_type": "stream",
     "text": [
      "[34.88]\n"
     ]
    }
   ],
   "source": [
    "print(output)"
   ]
  },
  {
   "cell_type": "code",
   "execution_count": null,
   "metadata": {},
   "outputs": [],
   "source": [
    "import RPi.GPIO as GPIO\n",
    "import time\n",
    "\n",
    "GPIO.setmode(GPIO.BCM)\n",
    "GPIO.setwarnings(False)\n",
    "\n",
    "IN1 = 17\n",
    "IN2 = 27\n",
    "ENA = 22\n",
    "\n",
    "GPIO.setup(IN1, GPIO.OUT)\n",
    "GPIO.setup(IN2, GPIO.OUT)\n",
    "GPIO.setup(ENA, GPIO.OUT)\n",
    "\n",
    "pwm = GPIO.PWM(ENA, 1000)\n",
    "pwm.start(100)\n",
    "\n",
    "GPIO.output(IN1, GPIO.HIGH)\n",
    "GPIO.output(IN2, GPIO.LOW)\n",
    "time.sleep(int(output))\n",
    "GPIO.output(IN1, GPIO.LOW)\n",
    "GPIO.output(IN2, GPIO.LOW)\n",
    "\n",
    "pwm.stop()\n",
    "GPIO.cleanup()\n"
   ]
  }
 ],
 "metadata": {
  "kernelspec": {
   "display_name": "Python 3",
   "language": "python",
   "name": "python3"
  },
  "language_info": {
   "codemirror_mode": {
    "name": "ipython",
    "version": 3
   },
   "file_extension": ".py",
   "mimetype": "text/x-python",
   "name": "python",
   "nbconvert_exporter": "python",
   "pygments_lexer": "ipython3",
   "version": "3.12.7"
  }
 },
 "nbformat": 4,
 "nbformat_minor": 2
}
