{
 "cells": [
  {
   "cell_type": "code",
   "execution_count": 3,
   "metadata": {},
   "outputs": [
    {
     "name": "stdout",
     "output_type": "stream",
     "text": [
      "Dataset created and saved as 'precise_irrigation_dataset.csv'.\n"
     ]
    }
   ],
   "source": [
    "import pandas as pd\n",
    "import numpy as np\n",
    "\n",
    "# Parameters for generating synthetic data\n",
    "num_samples = 4000  # Number of rows in the dataset\n",
    "random_seed = 42\n",
    "np.random.seed(random_seed)\n",
    "\n",
    "# Generating synthetic data\n",
    "data = {\n",
    "    \"Soil_Moisture\": np.random.uniform(10, 100, num_samples),  # Soil moisture in %\n",
    "    \"Temperature\": np.random.uniform(10, 40, num_samples),     # Temperature in °C\n",
    "    \"Humidity\": np.random.uniform(20, 90, num_samples),        # Humidity in %\n",
    "    \"Rain_Forecast_2H\": np.random.uniform(0, 1, num_samples),  # Rain probability in next 2 hours\n",
    "    \"Rain_Forecast_8H\": np.random.uniform(0, 1, num_samples),  # Rain probability in next 8 hours\n",
    "    \"Rain_Forecast_16H\": np.random.uniform(0, 1, num_samples), # Rain probability in next 16 hours\n",
    "    \"Rain_Forecast_1D\": np.random.uniform(0, 1, num_samples),  # Rain probability in 1 day\n",
    "    \"Rain_Volume\": np.random.uniform(0, 2, num_samples),       # Rain volume (0-2, heavy = 2)\n",
    "    \"Wind_Speed\": np.random.uniform(0, 15, num_samples),       # Wind speed in m/s\n",
    "    \"Solar_Radiation\": np.random.uniform(100, 1000, num_samples), # Solar radiation in W/m²\n",
    "    \"Soil_Type\": np.random.choice([\"Sandy\", \"Clay\", \"Loamy\"], num_samples), # Soil type\n",
    "    \"Soil_Perm\": np.random.uniform(0.1, 1.0, num_samples),     # Soil permeability (0-1 scale)\n",
    "    \"Soil_Depth\": np.random.uniform(10, 100, num_samples),     # Soil depth in cm\n",
    "    \"Crop_Type\": np.random.choice([\"Rice\", \"Wheat\", \"Barley\", \"Legumes\", \"Sugarcane\"], num_samples), # Crop type\n",
    "    \"Growth_Stage\": np.random.choice([\"Seedling\", \"Vegetative\", \"Flowering\", \"Maturity\"], num_samples), # Growth stage\n",
    "    \"Previous_Watering\": np.random.uniform(0, 50, num_samples), # Amount of water previously applied in mm\n",
    "    \"Time_Since_Irrigation\": np.random.uniform(0, 7, num_samples), # Days since last irrigation\n",
    "    \"Irrigation_Efficiency\": np.random.uniform(0.6, 1.0, num_samples), # Efficiency of irrigation system\n",
    "    \"Water_Deficit\": np.random.uniform(0, 30, num_samples),     # Water deficit in mm\n",
    "    \"Evapotranspiration\": np.random.uniform(0, 8, num_samples), # ET rate in mm/day\n",
    "    \"Cumulative_Rain_Impact\": np.random.uniform(0, 50, num_samples), # Cumulative rain impact in mm\n",
    "    \"Time_of_Day\": np.random.choice([\"Morning\", \"Afternoon\", \"Evening\"], num_samples), # Time of irrigation\n",
    "    \"Season\": np.random.choice([\"Spring\", \"Summer\", \"Autumn\", \"Winter\"], num_samples), # Season\n",
    "}\n",
    "\n",
    "# Create DataFrame\n",
    "dataset = pd.DataFrame(data)\n",
    "\n",
    "# Encode string columns to integers\n",
    "categorical_columns = [\"Soil_Type\", \"Crop_Type\", \"Growth_Stage\", \"Time_of_Day\", \"Season\"]\n",
    "for column in categorical_columns:\n",
    "    dataset[column] = dataset[column].astype('category').cat.codes  # Convert to integer codes\n",
    "\n",
    "# Adding patterns to the watering duration\n",
    "dataset['Watering_Duration'] = (\n",
    "    0.5 * dataset['Soil_Moisture']  # Higher soil moisture reduces watering needs\n",
    "    - 0.2 * dataset['Rain_Forecast_1D'] * 100  # Higher rain probability reduces duration\n",
    "    + 0.1 * dataset['Temperature']  # Higher temperature increases duration\n",
    "    - 0.05 * dataset['Humidity']  # Higher humidity slightly reduces duration\n",
    "    + 0.3 * dataset['Evapotranspiration']  # Higher ET increases watering needs\n",
    "    + 15  # Base duration\n",
    ").clip(lower=5, upper=60)  # Keeping within realistic limits of 5 to 60 minutes\n",
    "\n",
    "# Rounding the time to whole minutes\n",
    "dataset['Watering_Duration'] = dataset['Watering_Duration'].round()\n",
    "\n",
    "# Save the dataset to a CSV file\n",
    "dataset.to_csv(\"precise_irrigation_dataset.csv\", index=False)\n",
    "\n",
    "print(\"Dataset created and saved as 'precise_irrigation_dataset.csv'.\")\n"
   ]
  }
 ],
 "metadata": {
  "kernelspec": {
   "display_name": "Python 3",
   "language": "python",
   "name": "python3"
  },
  "language_info": {
   "codemirror_mode": {
    "name": "ipython",
    "version": 3
   },
   "file_extension": ".py",
   "mimetype": "text/x-python",
   "name": "python",
   "nbconvert_exporter": "python",
   "pygments_lexer": "ipython3",
   "version": "3.11.9"
  }
 },
 "nbformat": 4,
 "nbformat_minor": 2
}
